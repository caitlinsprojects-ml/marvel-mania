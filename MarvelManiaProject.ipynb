{
 "cells": [
  {
   "cell_type": "markdown",
   "metadata": {},
   "source": [
    "# Project Description"
   ]
  },
  {
   "cell_type": "markdown",
   "metadata": {},
   "source": [
    "### The Process\n",
    "Starting out this project, I first found my dataset on Kaggle and developed my project idea from there. I had first wanted to make an AI that writes a Taylor Swift song, but I couldn't find an updated dataset of all her song lyrics. So instead I went with a game of guessing the Marvel movie based on a number of lines of dialogue from the movie. I started out withh researching how to get a certain number of lines anywhere on a csv file, first trying pandas and then just using the built-in csv reader. Then I developed my classes and functions, and debugged a lot. Overall this took me about two weeks to complete from start to finish. \n",
    "\n",
    "My project is divided into three parts: a scripts folder, a modules folder, and a notebook (this file right here!). Below details each folder's files and what they contain.\n",
    "##### *game_script/lets_play*\n",
    "- The file contains the main script to run my game, a function called lets_play. It also contains the function that restarts my game if the player wants to play another round.\n",
    "\n",
    "##### *modules/marvel_dialogue_dataset*\n",
    "- This folder contains the csv files for 23 Marvel movie scripts. I got them from Kaggle and reformatted them.\n",
    "\n",
    "##### *modules/game_functions*\n",
    "- This file contains most of my functions. It has functions get_input, print_dialogue, guess_movie and  guess_incorrect.\n",
    "\n",
    "##### *modules/choose_film*\n",
    "- This file contains the ChooseMovie class which contains the function/method choose_movie.\n",
    "\n",
    "##### *modules/read_script*\n",
    "- This file contains the ReadScript class which contains the function/method read_lines.\n",
    "\n",
    "##### *modules/script_variables*\n",
    "- This file contains all the csv variables for easy access and two lists: a list of string movie titles and a corresponding list of csv-containing variables.\n",
    "\n",
    "##### *modules/test_functions*\n",
    "- This file contains the tests for my functions. !pytest will run this file.\n",
    "    \n",
    "\n",
    "### About my project / how to play\n",
    "This project is a game for the biggest fans of the Marvel Cinematic Universe! By choosing from one of four difficulty levels, the player will be presented a certain number of lines of dialogue from one of the 23 Marvel movies released prior to June 2021. The player must guess the film the dialogue is from!\n",
    "\n",
    "All commands, such as viewing a list of the films and quitting a round are detailed once the game begins. Note that the player can quit at any time by entering the guess \"QUIT\".\n",
    "\n",
    "\n",
    "                                                Avengers?\n",
    "                                                   ... \n",
    "                                                Assemble."
   ]
  },
  {
   "cell_type": "markdown",
   "metadata": {},
   "source": [
    "## Project Code\n",
    "\n",
    "If it makes sense for your project, you can have code and outputs here in the notebook as well."
   ]
  },
  {
   "cell_type": "code",
   "execution_count": null,
   "metadata": {},
   "outputs": [],
   "source": [
    "from game_script import lets_play as play"
   ]
  },
  {
   "cell_type": "code",
   "execution_count": null,
   "metadata": {},
   "outputs": [],
   "source": [
    "# To start, run this cell\n",
    "play.lets_play()"
   ]
  },
  {
   "cell_type": "code",
   "execution_count": null,
   "metadata": {},
   "outputs": [],
   "source": [
    "# test it out\n",
    "!pytest"
   ]
  },
  {
   "cell_type": "markdown",
   "metadata": {},
   "source": [
    "#### Extra Credit (*optional*)\n",
    "\n",
    "I took CSE 8A and 3 weeks of CSE 8B in Fall 2019 and Winter 2020 respectively. I chose to take a dataset and using that set create a game to allow people to guess what Marvel movie a certain number of lines of dialagoue were from. I challenged myself by learning how to import the data and make it usable/readable and how to get a specific number of lines from it while still getting lines from a random portion of the script and taking bounds into consideration. I researched how to use global variables and how to \"reset\" a game so that the main function would continue to cycle through the list of movies randomly, and I also taught myself how to use a mock unit test with some stackoverflow code and how to manipulate it into making other mocks besides a mock input. I attempted to learn how to use the signal package in Python, but was unsuccessful in getting it to work with my project."
   ]
  },
  {
   "cell_type": "code",
   "execution_count": null,
   "metadata": {},
   "outputs": [],
   "source": []
  }
 ],
 "metadata": {
  "kernelspec": {
   "display_name": "Python 3",
   "language": "python",
   "name": "python3"
  },
  "language_info": {
   "codemirror_mode": {
    "name": "ipython",
    "version": 3
   },
   "file_extension": ".py",
   "mimetype": "text/x-python",
   "name": "python",
   "nbconvert_exporter": "python",
   "pygments_lexer": "ipython3",
   "version": "3.8.6"
  }
 },
 "nbformat": 4,
 "nbformat_minor": 2
}
